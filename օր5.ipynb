{
 "cells": [
  {
   "cell_type": "markdown",
   "id": "0cb3b999",
   "metadata": {},
   "source": [
    "# ╔════════════╗\n",
    "# ║ Օր 5 ‖ Իմ առաջին ԱԲ-ն.   ║\n",
    "# ╚════════════╝\n",
    "##### Այս բաժնում միասին կսովորենք՝ ինչպես կարելի է ստեղծել ամենապարզ ԱԲ-ն (արհեստական բանականությունը), ինչպես կարելի է այն բարդացնել, ու՝ թե ինչերի է այն ունակ։ Դե ի՞նչ։ Սկսեցի´նք"
   ]
  },
  {
   "cell_type": "markdown",
   "id": "9f6b8845",
   "metadata": {},
   "source": [
    "---------------"
   ]
  },
  {
   "cell_type": "markdown",
   "id": "fb39f019",
   "metadata": {},
   "source": [
    "##### Աշխատացրու ստորև տարածքը, որպեսզի ունենաս քեզ պետքական գործիքները"
   ]
  },
  {
   "cell_type": "code",
   "execution_count": 19,
   "id": "a4f43092",
   "metadata": {},
   "outputs": [],
   "source": [
    "from tqdm import tqdm\n",
    "\n",
    "from random import choice as randomly_choose_from\n",
    "\n",
    "import torch\n",
    "import numpy as np\n",
    "\n",
    "from PIL import Image\n",
    "\n",
    "from torch import Tensor as Data\n",
    "from torch.nn import ReLU as ActivationFunction\n",
    "from torch.nn import Sequential as NeuralNetwork\n",
    "from torch.nn import Linear as FullyConnectedLayer\n",
    "from torch.nn import CrossEntropyLoss as LossFunction\n",
    "from torch.nn import Softmax as ActivationLayerProbabilities\n",
    "\n",
    "from torch.optim import SGD\n",
    "from torch.utils.data import DataLoader\n",
    "from torch.utils.data import random_split\n",
    "\n",
    "from torchvision.datasets import MNIST as digits_dataset\n",
    "from torchvision.transforms import ToTensor\n",
    "\n",
    "from matplotlib.pyplot import plot as plot_graph\n",
    "from matplotlib.pyplot import show as show_graph\n",
    "from matplotlib.pyplot import imshow as show_image\n",
    "\n",
    "from utils import utils"
   ]
  },
  {
   "cell_type": "markdown",
   "id": "10e82aeb",
   "metadata": {},
   "source": [
    "---------------\n",
    "### Գիտե՞ս չինգաչունգ խաղը։ Իհարկե գիտես։ Ի՞նչ կարծիքի կլինես, եթե միասին ստեղծենք ԱԲ, որը քեզ հետ դա կխաղա :D"
   ]
  },
  {
   "cell_type": "code",
   "execution_count": 2,
   "id": "0e1550ec",
   "metadata": {},
   "outputs": [],
   "source": [
    "class RockScissorsPaperAI:\n",
    "    def __init__(self):\n",
    "        self.possible_choices = [\"քար\", \"թուղթ\", \"մկրատ\"] # հնարավոր ընտրություններ\n",
    "        self.human_history = { # պատմություն մարդու ընտրությունների մասին\n",
    "            \"քար\": 0,\n",
    "            \"թուղթ\": 0,\n",
    "            \"մկրատ\": 0\n",
    "        }\n",
    "\n",
    "    def play(self, player_choice):\n",
    "        if player_choice not in self.possible_choices: # ստուգում, որ մարդու ընտրությունը ճիշտ է\n",
    "            return \"Դաղալություն մի արա, նորմալ բան ընտրի´ր։ Քար, թուղթ կամ մկրատ։\"\n",
    "        \n",
    "        # Այն դեպքը, երբ մարդը դեռ ոչ մի անգամ չի ընտրել\n",
    "        if self.human_history[\"քար\"] == 0 and self.human_history[\"թուղթ\"] == 0 and self.human_history[\"մկրատ\"] == 0:\n",
    "            computer_choice = randomly_choose_from(self.possible_choices)\n",
    "        # Այն դեպքը, երբ մարդը արդեն մեկ կամ մի քանի անգամ ընտրել է\n",
    "        else: \n",
    "            human_will_choose = max(self.human_history)\n",
    "            if human_will_choose == \"քար\":\n",
    "                computer_choice = \"թուղթ\"\n",
    "            if human_will_choose == \"թուղթ\":\n",
    "                computer_choice = \"մկրատ\"\n",
    "            if human_will_choose == \"մկրատ\":\n",
    "                computer_choice = \"քար\"\n",
    "\n",
    "        # Ավելացնենք մարդու ընտրությունը պատմության մեջ\n",
    "        self.human_history[player_choice] += 1 \n",
    "        \n",
    "        # Տեսնենք՝ ով հաղթեց\n",
    "        if player_choice == computer_choice:\n",
    "            return f\"Վա´յ։ Ոչ ոքի :| ես էլ ընտրեցի {computer_choice}\"\n",
    "        if player_choice == \"քար\" and computer_choice == \"թուղթ\":\n",
    "            return f\"Պարտվեցի´ր :P ես ընտրեցի {computer_choice}\"\n",
    "        if player_choice == \"թուղթ\" and computer_choice == \"մկրատ\":\n",
    "            return f\"Պարտվեցի´ր :P ես ընտրեցի {computer_choice}\"\n",
    "        if player_choice == \"մկրատ\" and computer_choice == \"քար\":\n",
    "            return f\"Պարտվեցի´ր :P ես ընտրեցի {computer_choice}\"\n",
    "        else:\n",
    "            return f\"Լավ, այս անգամ դու հաղթեցիր :( ես ընտրեցի {computer_choice}\""
   ]
  },
  {
   "cell_type": "markdown",
   "id": "0256529f",
   "metadata": {},
   "source": [
    "#### Փորձե՞նք"
   ]
  },
  {
   "cell_type": "code",
   "execution_count": null,
   "id": "79ebc55a",
   "metadata": {},
   "outputs": [],
   "source": [
    "counter = 0 # Խաղերի հաշվիչ\n",
    "ai = RockScissorsPaperAI() # Ստեղծում ենք ԱԲ-ն\n",
    "\n",
    "# Խաղանք 8 անգամ\n",
    "while counter < 8:\n",
    "    # Մարդը ընտրում է\n",
    "    player_choice = input(\"Քար, թուղթ կամ մկրատ։ Ի՞նչ ես ընտրում։ \")\n",
    "    print(ai.play(player_choice)) # AI-ն պատասխանում է\n",
    "    \n",
    "    counter += 1 # Խաղերի հաշվիչը ավելացնում է 1"
   ]
  },
  {
   "cell_type": "markdown",
   "id": "f775bfe2",
   "metadata": {},
   "source": [
    "#### ՀՐԱԱԱԱՇՔ\n",
    "#### Դու տեսար՝ ինչպես կարելի է ստեղծել ամենապարզ (թեկուզ և հիմարիկ) ԱԲ-ն։ Ապրե´ս։ Անցնե՞նք առաջ"
   ]
  },
  {
   "cell_type": "markdown",
   "id": "4d6b0c80",
   "metadata": {},
   "source": [
    "---------------\n",
    "### Չինգաչունգի «չեմպիոն» ունեցանք, բայց այն մի փոքր անկապի մեկն է։ Արի միասին ստեղծենք ավելի լավ ԱԲ, որը կկարողանա ճանաչել քո իսկ ձեռագրով գրված թվանշանները\n",
    "\n",
    "Այս առաջադրանքի շրջանակներում դու պետք է ինքնուրույն կազմես քո նեյրոնային ցանցն ու փորձարկես այն՝ տեսնելով՝ ինչ արդյունքի կբերեն տարբեր կոնֆիգուրացիաներ։ Փորձիր տարբեր կոմբինացիաներ, տարբեր միջանկյալ շերտերի քանակներ. տես՝ ինչ կոմբինացիաների դեպքում ինչ արդյունք ես ստանում։ Օգտագործիր `FullyConnectedLayer` և `ActivationLayer` շերտերը, որպեսզի կարողանաս կառուցել քո նեյրոնային ցանցը.\n",
    "\n",
    "Օգտագործման ֆորմատ՝\n",
    "```\n",
    "    FullyConnectedLayer(\n",
    "                նեյրոնների քանակ տվյալ շերտում,\n",
    "                նեյրոնների քանակ հաջորդ շերտում\n",
    "            )\n",
    "\n",
    "    ActivationLayer()\n",
    "```\n",
    "\n",
    "Օգտագործման օրինակ՝\n",
    "```\n",
    "    NeuralNetwork(\n",
    "        FullyConnectedLayer(1, 3),\n",
    "        ActivationLayer(),\n",
    "        FullyConnectedLayer(3, 4),\n",
    "        FullyConnectedLayer(4, 10),\n",
    "        ActivationLayer()\n",
    "        FullyConnectedLayer(10, 2),\n",
    "        FullyConnectedLayer(2, 1),\n",
    "    )\n",
    "```"
   ]
  },
  {
   "cell_type": "code",
   "execution_count": null,
   "id": "6f00793a",
   "metadata": {},
   "outputs": [],
   "source": [
    "class DigitRecognizer:\n",
    "    def __init__(self):\n",
    "        # Եթե հնարավոր է, օգտագործում ենք GPU, հակառակ դեպքում՝ CPU\n",
    "        self.device = torch.device(\"cuda\" if torch.cuda.is_available() else \"cpu\")\n",
    "        \n",
    "        # Մոդելի գլխավոր կառուցվածքը\n",
    "        self.model = NeuralNetwork(\n",
    "            FullyConnectedLayer(28 * 28, նեյրոնների քանակ), # 28x28 պիքսելանոց պատկերները հարթեցնում \n",
    "                                                            # ենք մեկ շերտի մեջ պահելու համար\n",
    "            \n",
    "            ActivationFunction(), # ակտիվացման ֆունկցիա\n",
    "\n",
    "            FullyConnectedLayer(նեյրոնների քանակ, նեյրոնների քանակ), # երկրորդ շերտը՝ նեյրոնների քանակով\n",
    "            ActivationFunction(), # ակտիվացման ֆունկցիա\n",
    "            .\n",
    "            .\n",
    "            .\n",
    "            FullyConnectedLayer(նեյրոնների քանակ, 10) # 10 դասերի համար, քանի որ մենք\n",
    "                                                      # աշխատում ենք թվանշանների հետ (0-9)\n",
    "        )\n",
    "\n",
    "        self.loss_function = LossFunction() # սխալների հաշվիչ\n",
    "        self.optimizer = SGD(self.model.parameters(), lr=0.01) # սովորելու օպտիմիզատոր\n",
    "        self.dataset = digits_dataset(root=\"./digits_dataset\", download=True, transform=ToTensor()) # սովորելու նյութ՝ թվանշանների հավաքածուն\n",
    "        self.train_dataset, self.test_dataset = self._prepare_data() # բաժանում ենք տվյալները ուսուցման և թեստավորման համար\n",
    "\n",
    "        self.batch_size = 64 # միավոր խմբի չափը՝ միաժամանակ ուսուցման համար\n",
    "\n",
    "        self.train_accuracy_history = [] # պահելու ենք ուսուցման ճշգրտության պատմությունը\n",
    "        self.test_accuracy_history = [] # պահելու ենք թեստավորման ճշգրտության պատմությունը\n",
    "\n",
    "        self.model.to(self.device) # մոդելը տեղափոխում ենք GPU կամ CPU-ի վրա\n",
    "\n",
    "    def _prepare_data(self):\n",
    "        return utils.prepare_data(self.dataset)\n",
    "    \n",
    "    def train(self, epochs=50):\n",
    "        training_results = utils.train_model(\n",
    "            self.model,\n",
    "            self.train_dataset,\n",
    "            self.test_dataset,\n",
    "            self.loss_function,\n",
    "            self.optimizer,\n",
    "            self.batch_size,\n",
    "            epochs,\n",
    "            self.device\n",
    "        )\n",
    "        # Ստանում ենք ուսուցման և թեստավորման ճշգրտության պատմությունը\n",
    "        self.train_accuracy_history, self.test_accuracy_history = training_results\n",
    "\n",
    "    def test(self):\n",
    "        test_accuracy = utils.test(\n",
    "            self.model,\n",
    "            self.test_dataset,\n",
    "            self.batch_size,\n",
    "            self.device\n",
    "        )\n",
    "\n",
    "        print(f\"Թեստավորման ճշգրտությունը՝ {test_accuracy:.2f}%\")\n",
    "\n",
    "    def predict(self, image):\n",
    "        predicted = utils.predict(\n",
    "            self.model,\n",
    "            image,\n",
    "            self.device\n",
    "        )\n",
    "        return predicted  # վերադարձնում ենք կանխատեսված թվանշանը որպես Python-ի թիվ\n",
    "    \n",
    "    def visualize(self, image):\n",
    "        return utils.visualize(image)\n",
    "    \n",
    "    def predict_custom_image(self, image_path):\n",
    "        predicted, img = utils.predict_custom_image(image_path)\n",
    "        \n",
    "        print(f\"Գուշակած թվանշան՝ {predicted}\")\n",
    "        show_image(img)\n"
   ]
  },
  {
   "cell_type": "code",
   "execution_count": 21,
   "id": "c73b8740",
   "metadata": {},
   "outputs": [
    {
     "name": "stderr",
     "output_type": "stream",
     "text": [
      "                                                                                           \r"
     ]
    },
    {
     "name": "stdout",
     "output_type": "stream",
     "text": [
      "Շրջան 1/1 - Սովորելու Ճշտություն՝ 60.89% | Վավերացման Ճշտություն՝ 81.91%\n",
      "Թեստավորման ճշգրտությունը՝ 81.91%\n"
     ]
    },
    {
     "data": {
      "image/png": "[encoded data removed]",
      "text/plain": [
       "<Figure size 640x480 with 1 Axes>"
      ]
     },
     "metadata": {},
     "output_type": "display_data"
    }
   ],
   "source": [
    "recognizer = DigitRecognizer() # թվանշանների ճանաչող մոդել՝ բուն ԱԲ-ն\n",
    "recognizer.train(epochs=1) # 5 շրջան սովորեցնենք մոդելը\n",
    "recognizer.test() # Թեստավորենք մոդելը\n",
    "\n",
    "# Ճշտության պատմության գրաֆիկ\n",
    "plot_graph(recognizer.train_accuracy_history, label='Սովորելու ճշտություն', color='blue') # Գրաֆիկների պատկերում\n",
    "plot_graph(recognizer.test_accuracy_history, label='Թեստի ճշտություն', color='orange') # Գրաֆիկների պատկերում\n",
    "show_graph()"
   ]
  },
  {
   "cell_type": "code",
   "execution_count": null,
   "id": "f0734802",
   "metadata": {},
   "outputs": [],
   "source": [
    "# Ձեռքով փորձենք\n",
    "test_image, _test_image_label = recognizer.dataset[51] # նկարների դարանից կամայական (թող լինի 51րդ) նկարը, կարող ես դնել քո ուզած թիվը\n",
    "predicted_digit = recognizer.predict(test_image) # թող մոդելը գուշակի գրված թվանշանը\n",
    "print(f\"Գուշակած: {predicted_digit}\") # մոդելի գուշակած թվանշանը\n",
    "\n",
    "# Նկարենք իրական թվանշանը\n",
    "_ = show_image(test_image.view(28, 28).numpy(), cmap='gray')"
   ]
  },
  {
   "cell_type": "code",
   "execution_count": null,
   "id": "3b9f90ee",
   "metadata": {},
   "outputs": [],
   "source": [
    "recognizer.predict_custom_image('քո նկարի հասցեն այստեղ') # փոխիր այս տողը՝ քո նկարի հասցեն դնելու համար"
   ]
  },
  {
   "cell_type": "markdown",
   "id": "f2b04d83",
   "metadata": {},
   "source": [
    "-----------------\n",
    "### Եվ այսպես՝ դու ինքնուրույն կարողացար ստեղծել ԱԲ, որը ճանաչում է քո ձեռագրով գրված թվանշանները։ Ապրե´ս\n",
    "-----------------"
   ]
  },
  {
   "cell_type": "markdown",
   "id": "2bbb7af4",
   "metadata": {},
   "source": [
    "## Սիրելի ԹՈՒՄՈցի, շնորհավորում եմ։\n",
    "Դու հաջողությամբ կարողացար հաղթահարել այս դասընթացի ամենաբարդ առաջադրանքները։ Հաջորդ դասին արի´, էլ ավելի հետաքրքիր բաներ կանենք միասին"
   ]
  }
 ],
 "metadata": {
  "kernelspec": {
   "display_name": "tf",
   "language": "python",
   "name": "python3"
  },
  "language_info": {
   "codemirror_mode": {
    "name": "ipython",
    "version": 3
   },
   "file_extension": ".py",
   "mimetype": "text/x-python",
   "name": "python",
   "nbconvert_exporter": "python",
   "pygments_lexer": "ipython3",
   "version": "3.10.6"
  }
 },
 "nbformat": 4,
 "nbformat_minor": 5
}
